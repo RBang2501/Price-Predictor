{
  "cells": [
    {
      "cell_type": "markdown",
      "metadata": {
        "id": "RUiOJYO7UUEp"
      },
      "source": [
        "## Imports"
      ]
    },
    {
      "cell_type": "code",
      "execution_count": 50,
      "metadata": {
        "colab": {
          "base_uri": "https://localhost:8080/"
        },
        "id": "8np9FpiaPbjU",
        "outputId": "279715ee-91c4-40ea-9a75-90e4d67b9cee"
      },
      "outputs": [
        {
          "name": "stderr",
          "output_type": "stream",
          "text": [
            "[nltk_data] Downloading package stopwords to\n",
            "[nltk_data]     C:\\Users\\anura\\AppData\\Roaming\\nltk_data...\n",
            "[nltk_data]   Package stopwords is already up-to-date!\n"
          ]
        },
        {
          "data": {
            "text/plain": [
              "True"
            ]
          },
          "execution_count": 50,
          "metadata": {},
          "output_type": "execute_result"
        }
      ],
      "source": [
        "import numpy as np \n",
        "import pandas as pd\n",
        "from scipy.sparse import hstack\n",
        "from nltk.corpus import stopwords\n",
        "from sklearn.feature_extraction.text import CountVectorizer\n",
        "from sklearn.model_selection import train_test_split\n",
        "from sklearn.decomposition import TruncatedSVD\n",
        "from sklearn.feature_extraction.text import TfidfVectorizer\n",
        "from sklearn.linear_model import LinearRegression\n",
        "from sklearn.ensemble import RandomForestRegressor\n",
        "from sklearn.linear_model import Ridge\n",
        "\n",
        "import nltk\n",
        "nltk.download('stopwords')"
      ]
    },
    {
      "cell_type": "markdown",
      "metadata": {
        "id": "Gl7wmkKAV_AI"
      },
      "source": [
        "## Dataset"
      ]
    },
    {
      "cell_type": "code",
      "execution_count": 51,
      "metadata": {
        "colab": {
          "base_uri": "https://localhost:8080/"
        },
        "id": "vC_sohQ2SKV0",
        "outputId": "a2d30f4c-cd71-4421-ccae-0f8c1be95830"
      },
      "outputs": [
        {
          "name": "stdout",
          "output_type": "stream",
          "text": [
            "Dimension of Training Dataframe:  (1260154, 8)\n",
            "Dimension of Testing Dataframe:  (222381, 7)\n"
          ]
        }
      ],
      "source": [
        "train_df = pd.read_csv(\"data/train.csv\")\n",
        "test_df = pd.read_csv(\"data/test.csv\")\n",
        "print(\"Dimension of Training Dataframe: \", train_df.shape)\n",
        "print(\"Dimension of Testing Dataframe: \", test_df.shape)"
      ]
    },
    {
      "cell_type": "markdown",
      "metadata": {
        "id": "kIGOHeeKWjVJ"
      },
      "source": [
        "## Understanding the Data"
      ]
    },
    {
      "cell_type": "code",
      "execution_count": 52,
      "metadata": {
        "colab": {
          "base_uri": "https://localhost:8080/",
          "height": 337
        },
        "id": "AspMELCzWi3O",
        "outputId": "2f236cc3-27d8-4c82-e4c8-d0d363c368d4"
      },
      "outputs": [
        {
          "data": {
            "text/html": [
              "<div>\n",
              "<style scoped>\n",
              "    .dataframe tbody tr th:only-of-type {\n",
              "        vertical-align: middle;\n",
              "    }\n",
              "\n",
              "    .dataframe tbody tr th {\n",
              "        vertical-align: top;\n",
              "    }\n",
              "\n",
              "    .dataframe thead th {\n",
              "        text-align: right;\n",
              "    }\n",
              "</style>\n",
              "<table border=\"1\" class=\"dataframe\">\n",
              "  <thead>\n",
              "    <tr style=\"text-align: right;\">\n",
              "      <th></th>\n",
              "      <th>PRODUCT_ID</th>\n",
              "      <th>PRODUCT_NAME</th>\n",
              "      <th>PRODUCT_CONDITION</th>\n",
              "      <th>CATEGORY</th>\n",
              "      <th>PRODUCT_BRAND</th>\n",
              "      <th>SHIPPING_AVAILABILITY</th>\n",
              "      <th>PRODUCT_DESCRIPTION</th>\n",
              "      <th>PRODUCT_PRICE</th>\n",
              "    </tr>\n",
              "  </thead>\n",
              "  <tbody>\n",
              "    <tr>\n",
              "      <th>0</th>\n",
              "      <td>952289</td>\n",
              "      <td>Lipstick queen reserved maiwu</td>\n",
              "      <td>4</td>\n",
              "      <td>Beauty/Makeup/Lips</td>\n",
              "      <td>NaN</td>\n",
              "      <td>0</td>\n",
              "      <td>Lipstick Queen Jean Queen and medieval lipstic...</td>\n",
              "      <td>20.0</td>\n",
              "    </tr>\n",
              "    <tr>\n",
              "      <th>1</th>\n",
              "      <td>121903</td>\n",
              "      <td>Garbage Pail Kids blu ray</td>\n",
              "      <td>3</td>\n",
              "      <td>Electronics/Media/Blu-Ray</td>\n",
              "      <td>NaN</td>\n",
              "      <td>1</td>\n",
              "      <td>26Plays great. Tested. Watched once. No scratc...</td>\n",
              "      <td>15.0</td>\n",
              "    </tr>\n",
              "    <tr>\n",
              "      <th>2</th>\n",
              "      <td>280534</td>\n",
              "      <td>green floam/slime</td>\n",
              "      <td>1</td>\n",
              "      <td>Kids/Toys/Arts &amp; Crafts</td>\n",
              "      <td>NaN</td>\n",
              "      <td>0</td>\n",
              "      <td>-6 oz, dragon fruit scented - KEEP OUT OF REAC...</td>\n",
              "      <td>8.0</td>\n",
              "    </tr>\n",
              "    <tr>\n",
              "      <th>3</th>\n",
              "      <td>787961</td>\n",
              "      <td>Wallet beige monogram</td>\n",
              "      <td>1</td>\n",
              "      <td>Women/Women's Accessories/Wallets</td>\n",
              "      <td>NaN</td>\n",
              "      <td>0</td>\n",
              "      <td>Wallet brand new never used</td>\n",
              "      <td>31.0</td>\n",
              "    </tr>\n",
              "    <tr>\n",
              "      <th>4</th>\n",
              "      <td>479292</td>\n",
              "      <td>Triangle Bike Or Body Blue Light</td>\n",
              "      <td>3</td>\n",
              "      <td>Sports &amp; Outdoors/Outdoors/Other</td>\n",
              "      <td>NaN</td>\n",
              "      <td>0</td>\n",
              "      <td>Triangle Bike Or Body Blue Light, steady or fl...</td>\n",
              "      <td>8.0</td>\n",
              "    </tr>\n",
              "  </tbody>\n",
              "</table>\n",
              "</div>"
            ],
            "text/plain": [
              "   PRODUCT_ID                      PRODUCT_NAME  PRODUCT_CONDITION  \\\n",
              "0      952289     Lipstick queen reserved maiwu                  4   \n",
              "1      121903         Garbage Pail Kids blu ray                  3   \n",
              "2      280534                 green floam/slime                  1   \n",
              "3      787961             Wallet beige monogram                  1   \n",
              "4      479292  Triangle Bike Or Body Blue Light                  3   \n",
              "\n",
              "                            CATEGORY PRODUCT_BRAND  SHIPPING_AVAILABILITY  \\\n",
              "0                 Beauty/Makeup/Lips           NaN                      0   \n",
              "1          Electronics/Media/Blu-Ray           NaN                      1   \n",
              "2            Kids/Toys/Arts & Crafts           NaN                      0   \n",
              "3  Women/Women's Accessories/Wallets           NaN                      0   \n",
              "4   Sports & Outdoors/Outdoors/Other           NaN                      0   \n",
              "\n",
              "                                 PRODUCT_DESCRIPTION  PRODUCT_PRICE  \n",
              "0  Lipstick Queen Jean Queen and medieval lipstic...           20.0  \n",
              "1  26Plays great. Tested. Watched once. No scratc...           15.0  \n",
              "2  -6 oz, dragon fruit scented - KEEP OUT OF REAC...            8.0  \n",
              "3                        Wallet brand new never used           31.0  \n",
              "4  Triangle Bike Or Body Blue Light, steady or fl...            8.0  "
            ]
          },
          "execution_count": 52,
          "metadata": {},
          "output_type": "execute_result"
        }
      ],
      "source": [
        "train_df.head()"
      ]
    },
    {
      "cell_type": "code",
      "execution_count": 53,
      "metadata": {
        "colab": {
          "base_uri": "https://localhost:8080/",
          "height": 300
        },
        "id": "0CV7Yd19eP9Y",
        "outputId": "759b12e9-5e0e-43b4-8e9c-055c50fbdfbc"
      },
      "outputs": [
        {
          "data": {
            "text/html": [
              "<div>\n",
              "<style scoped>\n",
              "    .dataframe tbody tr th:only-of-type {\n",
              "        vertical-align: middle;\n",
              "    }\n",
              "\n",
              "    .dataframe tbody tr th {\n",
              "        vertical-align: top;\n",
              "    }\n",
              "\n",
              "    .dataframe thead th {\n",
              "        text-align: right;\n",
              "    }\n",
              "</style>\n",
              "<table border=\"1\" class=\"dataframe\">\n",
              "  <thead>\n",
              "    <tr style=\"text-align: right;\">\n",
              "      <th></th>\n",
              "      <th>PRODUCT_ID</th>\n",
              "      <th>PRODUCT_CONDITION</th>\n",
              "      <th>SHIPPING_AVAILABILITY</th>\n",
              "      <th>PRODUCT_PRICE</th>\n",
              "    </tr>\n",
              "  </thead>\n",
              "  <tbody>\n",
              "    <tr>\n",
              "      <th>count</th>\n",
              "      <td>1.260154e+06</td>\n",
              "      <td>1.260154e+06</td>\n",
              "      <td>1.260154e+06</td>\n",
              "      <td>1.260154e+06</td>\n",
              "    </tr>\n",
              "    <tr>\n",
              "      <th>mean</th>\n",
              "      <td>7.408876e+05</td>\n",
              "      <td>1.907482e+00</td>\n",
              "      <td>4.472382e-01</td>\n",
              "      <td>2.672048e+01</td>\n",
              "    </tr>\n",
              "    <tr>\n",
              "      <th>std</th>\n",
              "      <td>4.280136e+05</td>\n",
              "      <td>9.032480e-01</td>\n",
              "      <td>4.972086e-01</td>\n",
              "      <td>3.855894e+01</td>\n",
              "    </tr>\n",
              "    <tr>\n",
              "      <th>min</th>\n",
              "      <td>0.000000e+00</td>\n",
              "      <td>1.000000e+00</td>\n",
              "      <td>0.000000e+00</td>\n",
              "      <td>0.000000e+00</td>\n",
              "    </tr>\n",
              "    <tr>\n",
              "      <th>25%</th>\n",
              "      <td>3.699312e+05</td>\n",
              "      <td>1.000000e+00</td>\n",
              "      <td>0.000000e+00</td>\n",
              "      <td>1.000000e+01</td>\n",
              "    </tr>\n",
              "    <tr>\n",
              "      <th>50%</th>\n",
              "      <td>7.408685e+05</td>\n",
              "      <td>2.000000e+00</td>\n",
              "      <td>0.000000e+00</td>\n",
              "      <td>1.700000e+01</td>\n",
              "    </tr>\n",
              "    <tr>\n",
              "      <th>75%</th>\n",
              "      <td>1.111356e+06</td>\n",
              "      <td>3.000000e+00</td>\n",
              "      <td>1.000000e+00</td>\n",
              "      <td>2.900000e+01</td>\n",
              "    </tr>\n",
              "    <tr>\n",
              "      <th>max</th>\n",
              "      <td>1.482534e+06</td>\n",
              "      <td>5.000000e+00</td>\n",
              "      <td>1.000000e+00</td>\n",
              "      <td>2.009000e+03</td>\n",
              "    </tr>\n",
              "  </tbody>\n",
              "</table>\n",
              "</div>"
            ],
            "text/plain": [
              "         PRODUCT_ID  PRODUCT_CONDITION  SHIPPING_AVAILABILITY  PRODUCT_PRICE\n",
              "count  1.260154e+06       1.260154e+06           1.260154e+06   1.260154e+06\n",
              "mean   7.408876e+05       1.907482e+00           4.472382e-01   2.672048e+01\n",
              "std    4.280136e+05       9.032480e-01           4.972086e-01   3.855894e+01\n",
              "min    0.000000e+00       1.000000e+00           0.000000e+00   0.000000e+00\n",
              "25%    3.699312e+05       1.000000e+00           0.000000e+00   1.000000e+01\n",
              "50%    7.408685e+05       2.000000e+00           0.000000e+00   1.700000e+01\n",
              "75%    1.111356e+06       3.000000e+00           1.000000e+00   2.900000e+01\n",
              "max    1.482534e+06       5.000000e+00           1.000000e+00   2.009000e+03"
            ]
          },
          "execution_count": 53,
          "metadata": {},
          "output_type": "execute_result"
        }
      ],
      "source": [
        "train_df.describe()"
      ]
    },
    {
      "cell_type": "markdown",
      "metadata": {
        "id": "eeJL0VlRcfyK"
      },
      "source": [
        "## EDA"
      ]
    },
    {
      "cell_type": "markdown",
      "metadata": {
        "id": "QoSs68KFci7f"
      },
      "source": [
        "### Handling Missing Values"
      ]
    },
    {
      "cell_type": "code",
      "execution_count": 54,
      "metadata": {
        "colab": {
          "base_uri": "https://localhost:8080/"
        },
        "id": "NHLgW-E7SRSq",
        "outputId": "5bcb602a-03e8-4f5b-e276-350518f0993b"
      },
      "outputs": [
        {
          "data": {
            "text/plain": [
              "PRODUCT_ID                    0\n",
              "PRODUCT_NAME                  0\n",
              "PRODUCT_CONDITION             0\n",
              "CATEGORY                   5416\n",
              "PRODUCT_BRAND            537885\n",
              "SHIPPING_AVAILABILITY         0\n",
              "PRODUCT_DESCRIPTION           3\n",
              "PRODUCT_PRICE                 0\n",
              "dtype: int64"
            ]
          },
          "execution_count": 54,
          "metadata": {},
          "output_type": "execute_result"
        }
      ],
      "source": [
        "train_df.isna().sum()"
      ]
    },
    {
      "cell_type": "code",
      "execution_count": 55,
      "metadata": {
        "colab": {
          "base_uri": "https://localhost:8080/"
        },
        "id": "83VIQTJoXOAf",
        "outputId": "84d9a842-6b5e-4df1-d557-c83364ffd3d7"
      },
      "outputs": [
        {
          "data": {
            "text/plain": [
              "PRODUCT_ID                   0\n",
              "PRODUCT_NAME                 0\n",
              "PRODUCT_CONDITION            0\n",
              "CATEGORY                   911\n",
              "PRODUCT_BRAND            94797\n",
              "SHIPPING_AVAILABILITY        0\n",
              "PRODUCT_DESCRIPTION          1\n",
              "dtype: int64"
            ]
          },
          "execution_count": 55,
          "metadata": {},
          "output_type": "execute_result"
        }
      ],
      "source": [
        "test_df.isna().sum()"
      ]
    },
    {
      "cell_type": "code",
      "execution_count": 56,
      "metadata": {
        "id": "OfEv_zJsTn9X"
      },
      "outputs": [],
      "source": [
        "train_df['PRODUCT_BRAND'] = train_df['PRODUCT_BRAND'].fillna('local')\n",
        "test_df['PRODUCT_BRAND'] = test_df['PRODUCT_BRAND'].fillna('local')\n",
        "\n",
        "train_df['CATEGORY'] = train_df['CATEGORY'].fillna('general/general/general')\n",
        "test_df['CATEGORY'] = test_df['CATEGORY'].fillna('general/general/general')\n",
        "\n",
        "train_df['PRODUCT_DESCRIPTION'] = train_df['PRODUCT_DESCRIPTION'].fillna('no_description')\n",
        "test_df['PRODUCT_DESCRIPTION'] = test_df['PRODUCT_DESCRIPTION'].fillna('no_description')"
      ]
    },
    {
      "cell_type": "markdown",
      "metadata": {
        "id": "ezU6OKXYcoht"
      },
      "source": [
        "### Handling ID Column"
      ]
    },
    {
      "cell_type": "code",
      "execution_count": 57,
      "metadata": {
        "id": "3OEwNETGW8TE"
      },
      "outputs": [],
      "source": [
        "train_df_ids = train_df['PRODUCT_ID']\n",
        "train_df.drop(['PRODUCT_ID'], axis = 1, inplace = True)\n",
        "\n",
        "test_df_ids = test_df['PRODUCT_ID']\n",
        "test_df.drop(['PRODUCT_ID'], axis = 1, inplace = True)"
      ]
    },
    {
      "cell_type": "markdown",
      "metadata": {
        "id": "nT2zr0T9b7zI"
      },
      "source": [
        "### Handling Category Column"
      ]
    },
    {
      "cell_type": "code",
      "execution_count": 58,
      "metadata": {
        "id": "iuTWdwJEabsH"
      },
      "outputs": [],
      "source": [
        "def split_category(text):\n",
        "  try: return text.split(\"/\")\n",
        "  except: return ('general','general','general')"
      ]
    },
    {
      "cell_type": "code",
      "execution_count": 59,
      "metadata": {
        "colab": {
          "background_save": true
        },
        "id": "lS6q1ei2YotA"
      },
      "outputs": [],
      "source": [
        "# Training Dataset\n",
        "train_df['Main_Category'], train_df['Sub_Category_1'], train_df['Sub_Category_2'] = \\\n",
        "zip(*train_df['CATEGORY'].apply(lambda x: split_category(x)))\n",
        "train_df.drop(['CATEGORY'], axis = 1, inplace = True)\n",
        "\n",
        "# Testing Dataset\n",
        "test_df['Main_Category'], test_df['Sub_Category_1'], test_df['Sub_Category_2'] = \\\n",
        "zip(*test_df['CATEGORY'].apply(lambda x: split_category(x)))\n",
        "test_df.drop(['CATEGORY'], axis = 1, inplace = True)"
      ]
    },
    {
      "cell_type": "markdown",
      "metadata": {
        "id": "riqSLlgffWBs"
      },
      "source": [
        "### Handling Negative Product Price"
      ]
    },
    {
      "cell_type": "code",
      "execution_count": 60,
      "metadata": {
        "colab": {
          "background_save": true,
          "base_uri": "https://localhost:8080/"
        },
        "id": "ZxXTEDlpfPZ9",
        "outputId": "b82c7810-602f-44c0-d08c-6a68d35fb762"
      },
      "outputs": [
        {
          "name": "stdout",
          "output_type": "stream",
          "text": [
            "Removed 740 rows\n"
          ]
        }
      ],
      "source": [
        "print('Removed {} rows' .format(len(train_df[train_df.PRODUCT_PRICE<=0])))\n",
        "train_df = train_df[train_df.PRODUCT_PRICE > 0].reset_index(drop=True)"
      ]
    },
    {
      "cell_type": "markdown",
      "metadata": {
        "id": "UE9LAhrphu3G"
      },
      "source": [
        "### Encoding Brand and Category Columns"
      ]
    },
    {
      "cell_type": "code",
      "execution_count": 61,
      "metadata": {
        "colab": {
          "background_save": true
        },
        "id": "aOtcAjn3hrNz"
      },
      "outputs": [],
      "source": [
        "# Colums for text processing : [PRODUCT_BRAND, Main_Category, Sub_Category_1. Sub_Category_2]\n",
        "vectorizer = CountVectorizer(lowercase=False, binary=True)\n",
        "\n",
        "\n",
        "train_brand_oneHot = vectorizer.fit_transform(train_df['PRODUCT_BRAND'].values)\n",
        "test_brand_oneHot = vectorizer.transform(test_df['PRODUCT_BRAND'].values)\n",
        "\n",
        "train_main_cat_oneHot = vectorizer.fit_transform(train_df['Main_Category'].values)\n",
        "test_main_cat_oneHot = vectorizer.transform(test_df['Main_Category'].values)\n",
        "\n",
        "train_sub_cat_1_oneHot = vectorizer.fit_transform(train_df['Sub_Category_1'].values)\n",
        "test_sub_cat_1_oneHot = vectorizer.transform(test_df['Sub_Category_1'].values)\n",
        "\n",
        "train_sub_cat_2_oneHot = vectorizer.fit_transform(train_df['Sub_Category_2'].values)\n",
        "test_sub_cat_2_oneHot = vectorizer.transform(test_df['Sub_Category_2'].values)"
      ]
    },
    {
      "cell_type": "markdown",
      "metadata": {
        "id": "fKc-fzwgYHHF"
      },
      "source": [
        "### Text Processing"
      ]
    },
    {
      "cell_type": "markdown",
      "metadata": {
        "id": "-rEYEaqzcJb-"
      },
      "source": [
        "#### Processing Category Column"
      ]
    },
    {
      "cell_type": "code",
      "execution_count": 62,
      "metadata": {
        "colab": {
          "background_save": true
        },
        "id": "5AB45jquavIK"
      },
      "outputs": [],
      "source": [
        "def category_process(text):\n",
        "  text = text.str.replace('[^a-zA-Z0-9]', ' ')\n",
        "  text = text.str.replace(' ', '')\n",
        "  text = text.str.replace('&', '_')\n",
        "  return text"
      ]
    },
    {
      "cell_type": "code",
      "execution_count": 63,
      "metadata": {
        "colab": {
          "background_save": true
        },
        "id": "miqiKzBXa5L4",
        "outputId": "64457a5e-728f-426f-97dd-b0995bb383e5"
      },
      "outputs": [
        {
          "name": "stderr",
          "output_type": "stream",
          "text": [
            "C:\\Users\\anura\\AppData\\Local\\Temp\\ipykernel_9212\\2323008336.py:2: FutureWarning: The default value of regex will change from True to False in a future version.\n",
            "  text = text.str.replace('[^a-zA-Z0-9]', ' ')\n"
          ]
        }
      ],
      "source": [
        "# Colums for category processing : [Main_Category, Sub_Category_1. Sub_Category_2]\n",
        "\n",
        "# Training Dataset\n",
        "train_df['Main_Category'] = category_process(train_df['Main_Category'])\n",
        "train_df['Sub_Category_1'] = category_process(train_df['Sub_Category_1'])\n",
        "train_df['Sub_Category_2'] = category_process(train_df['Sub_Category_2'])\n",
        "\n",
        "# Testing Dataset\n",
        "test_df['Main_Category'] = category_process(test_df['Main_Category'])\n",
        "test_df['Sub_Category_1'] = category_process(test_df['Sub_Category_1'])\n",
        "test_df['Sub_Category_2'] = category_process(test_df['Sub_Category_2'])\n"
      ]
    },
    {
      "cell_type": "markdown",
      "metadata": {
        "id": "QP-r6BaicQdD"
      },
      "source": [
        "#### Processing Name, Description Column"
      ]
    },
    {
      "cell_type": "code",
      "execution_count": 64,
      "metadata": {
        "colab": {
          "background_save": true
        },
        "id": "TY93IrH4dmvu"
      },
      "outputs": [],
      "source": [
        "def text_process(text):\n",
        "  text = text.str.replace('[^a-zA-Z0-9]', ' ')\n",
        "  text = text.str.replace('\\\\\"', ' ')\n",
        "  text = text.str.replace('\\\\r', ' ')\n",
        "  text = text.str.replace('\\\\n', ' ')\n",
        "  stop_words = stopwords.words('english')\n",
        "  text = text.apply(lambda x: ' '.join([word for word in x.split() if word not in (stop_words)]))\n",
        "  text = text.map(lambda x: x.lower())\n",
        "  return text"
      ]
    },
    {
      "cell_type": "code",
      "execution_count": 65,
      "metadata": {
        "colab": {
          "background_save": true
        },
        "id": "3RwJYZ3QY8UY",
        "outputId": "822f8983-02eb-4482-ffd0-38b70c6c5654"
      },
      "outputs": [
        {
          "name": "stderr",
          "output_type": "stream",
          "text": [
            "C:\\Users\\anura\\AppData\\Local\\Temp\\ipykernel_9212\\3642205242.py:2: FutureWarning: The default value of regex will change from True to False in a future version.\n",
            "  text = text.str.replace('[^a-zA-Z0-9]', ' ')\n",
            "C:\\Users\\anura\\AppData\\Local\\Temp\\ipykernel_9212\\3642205242.py:3: FutureWarning: The default value of regex will change from True to False in a future version.\n",
            "  text = text.str.replace('\\\\\"', ' ')\n",
            "C:\\Users\\anura\\AppData\\Local\\Temp\\ipykernel_9212\\3642205242.py:4: FutureWarning: The default value of regex will change from True to False in a future version.\n",
            "  text = text.str.replace('\\\\r', ' ')\n",
            "C:\\Users\\anura\\AppData\\Local\\Temp\\ipykernel_9212\\3642205242.py:5: FutureWarning: The default value of regex will change from True to False in a future version.\n",
            "  text = text.str.replace('\\\\n', ' ')\n"
          ]
        }
      ],
      "source": [
        "# Colums for text processing : [PRODUCT_DESCRIPTION, PRODUCT_NAME]\n",
        "\n",
        "# Training Dataset\n",
        "train_df['PRODUCT_NAME'] = text_process(train_df['PRODUCT_NAME'])\n",
        "train_df['PRODUCT_DESCRIPTION'] = text_process(train_df['PRODUCT_DESCRIPTION'])\n",
        "\n",
        "# Testing Dataset\n",
        "test_df['PRODUCT_NAME'] = text_process(test_df['PRODUCT_NAME'])\n",
        "test_df['PRODUCT_DESCRIPTION'] = text_process(test_df['PRODUCT_DESCRIPTION'])\n"
      ]
    },
    {
      "cell_type": "code",
      "execution_count": 66,
      "metadata": {
        "colab": {
          "background_save": true
        },
        "id": "VWp6vrZZkSBn",
        "outputId": "481b9980-b3d6-408b-98e0-11ccbfdeced3"
      },
      "outputs": [
        {
          "name": "stdout",
          "output_type": "stream",
          "text": [
            "(1259414, 9)\n"
          ]
        }
      ],
      "source": [
        "train_df.head()\n",
        "print(train_df.shape)"
      ]
    },
    {
      "cell_type": "code",
      "execution_count": 67,
      "metadata": {
        "colab": {
          "background_save": true
        },
        "id": "na2NSCJMboJW",
        "outputId": "fc85fc6a-dc3d-4b5d-a62a-7d93237a3a80"
      },
      "outputs": [
        {
          "name": "stdout",
          "output_type": "stream",
          "text": [
            "(222381, 8)\n"
          ]
        }
      ],
      "source": [
        "test_df.head()\n",
        "print(test_df.shape)"
      ]
    },
    {
      "cell_type": "markdown",
      "metadata": {
        "id": "Hxu2IrU3h12U"
      },
      "source": [
        "### Tokenization"
      ]
    },
    {
      "cell_type": "code",
      "execution_count": 68,
      "metadata": {
        "colab": {
          "background_save": true
        },
        "id": "V7muHPwf9yFr"
      },
      "outputs": [],
      "source": [
        "# Tokenization needed for columns: [PRODUCT_DESCRIPTION, PRODUCT_NAME]\n",
        "\n",
        "# Training Dataset\n",
        "vectorizer = TfidfVectorizer(ngram_range=(1, 3), min_df=3, max_features= 70000)\n",
        "train_name_tfidf = vectorizer.fit_transform(train_df['PRODUCT_NAME'].values)\n",
        "test_name_tfidf = vectorizer.transform(test_df['PRODUCT_NAME'].values)\n",
        "\n",
        "# Testing Dataset\n",
        "vectorizer = TfidfVectorizer(ngram_range=(1, 3), min_df=5, max_features= 200000)\n",
        "train_description_tfidf = vectorizer.fit_transform(train_df['PRODUCT_DESCRIPTION'].values)\n",
        "test_description_tfidf = vectorizer.transform(test_df['PRODUCT_DESCRIPTION'].values)"
      ]
    },
    {
      "cell_type": "code",
      "execution_count": 69,
      "metadata": {
        "colab": {
          "background_save": true
        },
        "id": "QPgwEXuJiiBy",
        "outputId": "54be7e62-e595-4512-df24-f25703258350"
      },
      "outputs": [
        {
          "name": "stdout",
          "output_type": "stream",
          "text": [
            "(1259414, 9)\n"
          ]
        }
      ],
      "source": [
        "train_df.head()\n",
        "print(train_df.shape)"
      ]
    },
    {
      "cell_type": "code",
      "execution_count": 70,
      "metadata": {
        "colab": {
          "background_save": true
        },
        "id": "chlsU-Z2imkl",
        "outputId": "ec42b1a6-7d2d-4154-b383-618c76f650d4"
      },
      "outputs": [
        {
          "name": "stdout",
          "output_type": "stream",
          "text": [
            "(222381, 8)\n"
          ]
        }
      ],
      "source": [
        "test_df.head()\n",
        "print(test_df.shape)"
      ]
    },
    {
      "cell_type": "markdown",
      "metadata": {
        "id": "fjM6rs78io8g"
      },
      "source": [
        "## Sparse Matrix Creation"
      ]
    },
    {
      "cell_type": "code",
      "execution_count": 71,
      "metadata": {
        "colab": {
          "background_save": true
        },
        "id": "3r2RdNSmEC6l",
        "outputId": "cd6d79c3-0f75-4aa2-ca77-b3da305fad37"
      },
      "outputs": [
        {
          "name": "stdout",
          "output_type": "stream",
          "text": [
            "(1259414, 276163)\n",
            "(222381, 276163)\n"
          ]
        }
      ],
      "source": [
        "# Traning Dataset\n",
        "Y_train = train_df['PRODUCT_PRICE'].to_numpy()\n",
        "train_df.drop(['PRODUCT_PRICE'], axis = 1, inplace = True)\n",
        "Y_train = Y_train.reshape((-1,1))\n",
        "Y_Train = np.log1p(Y_train)      \n",
        "\n",
        "train_sparse = hstack((train_brand_oneHot, train_main_cat_oneHot, train_sub_cat_1_oneHot, train_sub_cat_2_oneHot,\n",
        "                       train_name_tfidf, train_description_tfidf)).tocsr()\n",
        "new_train_df = train_df.drop(columns = ['PRODUCT_NAME', 'PRODUCT_BRAND','PRODUCT_DESCRIPTION','Main_Category','Sub_Category_1',\n",
        "                                        'Sub_Category_2'], axis = 1, inplace = False)\n",
        "X_train = hstack((new_train_df.values, train_sparse)).tocsr()\n",
        "\n",
        "# Testing Dataset\n",
        "test_sparse = hstack((test_brand_oneHot, test_main_cat_oneHot, test_sub_cat_1_oneHot, test_sub_cat_2_oneHot,\n",
        "                       test_name_tfidf, test_description_tfidf)).tocsr()\n",
        "new_test_df = test_df.drop(columns = ['PRODUCT_NAME', 'PRODUCT_BRAND','PRODUCT_DESCRIPTION','Main_Category','Sub_Category_1',\n",
        "                                        'Sub_Category_2'], axis = 1, inplace = False)\n",
        "X_test = hstack((new_test_df.values, test_sparse)).tocsr()\n",
        "\n",
        "print(X_train.shape)\n",
        "print(X_test.shape)\n"
      ]
    },
    {
      "cell_type": "markdown",
      "metadata": {
        "id": "0AfKieMfkRYf"
      },
      "source": [
        "## Splitting Training Dataset into : (Training and Validation)"
      ]
    },
    {
      "cell_type": "code",
      "execution_count": 72,
      "metadata": {
        "colab": {
          "background_save": true
        },
        "id": "uZxrhe3PHpic"
      },
      "outputs": [],
      "source": [
        "training_X, validation_X, training_Y, validation_Y = train_test_split(X_train, Y_Train, test_size=0.2, random_state=17)\n"
      ]
    },
    {
      "cell_type": "markdown",
      "metadata": {
        "id": "RYPusU3WlSf8"
      },
      "source": [
        "## Performance Metrics"
      ]
    },
    {
      "cell_type": "code",
      "execution_count": 73,
      "metadata": {
        "colab": {
          "background_save": true
        },
        "id": "dHjoJmdHlPkB"
      },
      "outputs": [],
      "source": [
        "def RMSLE(Y_True, Y_Prediction):\n",
        "    assert len(Y_True) == len(Y_Prediction)\n",
        "    score = np.sqrt(np.mean(np.power(np.log1p(Y_Prediction) - np.log1p(Y_True), 2)))\n",
        "    return score"
      ]
    },
    {
      "cell_type": "markdown",
      "metadata": {
        "id": "E-8PT9QMOfX1"
      },
      "source": [
        "## Learning Model: Linear Regression "
      ]
    },
    {
      "cell_type": "code",
      "execution_count": 74,
      "metadata": {
        "colab": {
          "background_save": true
        },
        "id": "ixAsQz1bXxyr",
        "outputId": "e6148a09-392d-4c00-c7e6-4290f5c59693"
      },
      "outputs": [
        {
          "data": {
            "text/plain": [
              "<1259414x276163 sparse matrix of type '<class 'numpy.float64'>'\n",
              "\twith 55403957 stored elements in Compressed Sparse Row format>"
            ]
          },
          "execution_count": 74,
          "metadata": {},
          "output_type": "execute_result"
        }
      ],
      "source": [
        "svd = TruncatedSVD(n_components= 10, random_state=42)\n",
        "svd.fit(X_train)\n",
        "svd_X_train = svd.fit_transform(X_train)\n",
        "svd_X_test = svd.transform(X_test)\n",
        "X_train"
      ]
    },
    {
      "cell_type": "code",
      "execution_count": 75,
      "metadata": {
        "colab": {
          "background_save": true
        },
        "id": "c9h8fUhMYDby"
      },
      "outputs": [],
      "source": [
        "training_X_svd, validation_X_svd, training_Y_svd, validation_Y_svd = train_test_split(svd_X_train, Y_Train, test_size=0.2, random_state=42)"
      ]
    },
    {
      "cell_type": "code",
      "execution_count": 76,
      "metadata": {
        "colab": {
          "background_save": true
        },
        "id": "xcP9kovfNve3",
        "outputId": "b51df587-e84a-450e-9979-bd09d04679aa"
      },
      "outputs": [
        {
          "name": "stdout",
          "output_type": "stream",
          "text": [
            "Score on Validation Data:  0.6937251906001094\n"
          ]
        }
      ],
      "source": [
        "model = LinearRegression().fit(training_X_svd, training_Y_svd)\n",
        "\n",
        "valid_Y_pred = model.predict(validation_X_svd)\n",
        "valid_Y_pred = np.expm1(valid_Y_pred)\n",
        "valid_Y_true = np.expm1(validation_Y_svd)\n",
        "print(\"Score on Validation Data: \", RMSLE(valid_Y_true, valid_Y_pred))"
      ]
    },
    {
      "cell_type": "markdown",
      "metadata": {},
      "source": [
        "## Learning Model: Random Forest Regressor"
      ]
    },
    {
      "cell_type": "code",
      "execution_count": 77,
      "metadata": {},
      "outputs": [
        {
          "name": "stderr",
          "output_type": "stream",
          "text": [
            "C:\\Users\\anura\\AppData\\Local\\Temp\\ipykernel_9212\\108480970.py:2: DataConversionWarning: A column-vector y was passed when a 1d array was expected. Please change the shape of y to (n_samples,), for example using ravel().\n",
            "  model.fit(training_X_svd[:25000], training_Y_svd[:25000])\n"
          ]
        },
        {
          "name": "stdout",
          "output_type": "stream",
          "text": [
            "Score on Validation Data:  0.772981377982947\n"
          ]
        }
      ],
      "source": [
        "model = RandomForestRegressor(max_depth=2, random_state=0)\n",
        "model.fit(training_X_svd[:25000], training_Y_svd[:25000])\n",
        "\n",
        "valid_Y_pred = model.predict(validation_X_svd[:25000])\n",
        "valid_Y_pred = np.expm1(valid_Y_pred[:25000])\n",
        "valid_Y_true = np.expm1(validation_Y_svd[:25000])\n",
        "print(\"Score on Validation Data: \", RMSLE(valid_Y_true, valid_Y_pred))"
      ]
    },
    {
      "cell_type": "markdown",
      "metadata": {
        "id": "C6KIpKbWkrrF"
      },
      "source": [
        "## Learning Model: RIDGE Regression (selecting best Alpha)"
      ]
    },
    {
      "cell_type": "code",
      "execution_count": 78,
      "metadata": {
        "colab": {
          "background_save": true
        },
        "id": "YU1wDtWFX7Ek",
        "outputId": "2a54478a-8eef-49dc-ef67-13072f8434ae"
      },
      "outputs": [
        {
          "name": "stdout",
          "output_type": "stream",
          "text": [
            "RMSLE for alpha =  1 is 0.4516403195636112\n",
            "RMSLE for alpha =  2 is 0.44775052890540845\n",
            "RMSLE for alpha =  3 is 0.44678883380807893\n",
            "RMSLE for alpha =  3.5 is 0.4467248999375962\n",
            "RMSLE for alpha =  4 is 0.44685573773551496\n",
            "RMSLE for alpha =  5 is 0.4472955001022651\n",
            "Best Alpha:  3.5\n"
          ]
        }
      ],
      "source": [
        "alpha = [1, 2, 3, 3.5, 4, 5] \n",
        "rmsle_array = [] \n",
        "for i in alpha:\n",
        "    \n",
        "    model = Ridge (solver=\"auto\", random_state=42, alpha=i)\n",
        "    model.fit(training_X, training_Y)\n",
        "    \n",
        "    validation_Y_pred = model.predict(validation_X)\n",
        "    validation_Y_pred = np.expm1(validation_Y_pred)\n",
        "    validation_Y_true = np.expm1(validation_Y)\n",
        "    \n",
        "    rmsle_array.append(RMSLE(validation_Y_true, validation_Y_pred))\n",
        "\n",
        "for i in range(len(rmsle_array)):\n",
        "    print ('RMSLE for alpha = ',alpha[i],'is',rmsle_array[i])\n",
        "\n",
        "\n",
        "best_alpha = alpha[rmsle_array.index(min(rmsle_array))]\n",
        "print('Best Alpha: ', alpha[rmsle_array.index(min(rmsle_array))])\n",
        "\n"
      ]
    },
    {
      "cell_type": "code",
      "execution_count": 79,
      "metadata": {
        "id": "rv5fROxPBmyT"
      },
      "outputs": [
        {
          "name": "stdout",
          "output_type": "stream",
          "text": [
            "RMSLE for alpha =  3.25 is 0.4467329070474152\n",
            "RMSLE for alpha =  3.3 is 0.44672518340958595\n",
            "RMSLE for alpha =  3.35 is 0.4467410094560818\n",
            "RMSLE for alpha =  3.45 is 0.44672542968910456\n",
            "Best Alpha:  3.3\n"
          ]
        }
      ],
      "source": [
        "alpha = [3.25, 3.30, 3.35, 3.45] \n",
        "rmsle_array = [] \n",
        "for i in alpha:\n",
        "    \n",
        "    model = Ridge (solver=\"auto\", random_state=42, alpha=i)\n",
        "    model.fit(training_X, training_Y)\n",
        "    \n",
        "    validation_Y_pred = model.predict(validation_X)\n",
        "    validation_Y_pred = np.expm1(validation_Y_pred)\n",
        "    validation_Y_true = np.expm1(validation_Y)\n",
        "    \n",
        "    rmsle_array.append(RMSLE(validation_Y_true, validation_Y_pred))\n",
        "\n",
        "for i in range(len(rmsle_array)):\n",
        "    print ('RMSLE for alpha = ',alpha[i],'is',rmsle_array[i])\n",
        "\n",
        "\n",
        "best_alpha = alpha[rmsle_array.index(min(rmsle_array))]\n",
        "print('Best Alpha: ', alpha[rmsle_array.index(min(rmsle_array))])"
      ]
    },
    {
      "cell_type": "markdown",
      "metadata": {
        "id": "2tqy3JAznevw"
      },
      "source": [
        "## Final Model"
      ]
    },
    {
      "cell_type": "code",
      "execution_count": 80,
      "metadata": {
        "id": "3vj_tQA6nbbm"
      },
      "outputs": [],
      "source": [
        "model = Ridge(solver=\"auto\", random_state=42, alpha= best_alpha)\n",
        "model = model.fit(X_train, Y_Train)"
      ]
    },
    {
      "cell_type": "markdown",
      "metadata": {
        "id": "wPvKYwuwnTYZ"
      },
      "source": [
        "### Handling Negative Price Prediction "
      ]
    },
    {
      "cell_type": "code",
      "execution_count": 81,
      "metadata": {
        "id": "49p9yNxzAWwr"
      },
      "outputs": [],
      "source": [
        "Y_test = np.where(model.predict(X_test) < 0, 0, model.predict(X_test))\n",
        "Y_test = np.expm1(Y_test)"
      ]
    },
    {
      "cell_type": "code",
      "execution_count": 82,
      "metadata": {
        "id": "mDUxdoDr_eTi"
      },
      "outputs": [
        {
          "name": "stdout",
          "output_type": "stream",
          "text": [
            "Score on Validation Data:  0.40792654741932827\n"
          ]
        }
      ],
      "source": [
        "valid_Y_pred = model.predict(validation_X)\n",
        "valid_Y_pred = np.expm1(valid_Y_pred)\n",
        "valid_Y_true = np.expm1(validation_Y)\n",
        "print(\"Score on Validation Data: \", RMSLE(valid_Y_true, valid_Y_pred))"
      ]
    },
    {
      "cell_type": "markdown",
      "metadata": {
        "id": "LXYZzP1QodiZ"
      },
      "source": [
        "### Submission .csv Creation"
      ]
    },
    {
      "cell_type": "code",
      "execution_count": 83,
      "metadata": {
        "id": "b2hZ8-JTjVLF"
      },
      "outputs": [
        {
          "name": "stdout",
          "output_type": "stream",
          "text": [
            "        PRODUCT_ID  PRODUCT_PRICE\n",
            "0           777341       9.319494\n",
            "1          1463629      25.483724\n",
            "2           350669      12.915736\n",
            "3           310222       5.334498\n",
            "4           759257      28.090350\n",
            "...            ...            ...\n",
            "222376      491588      38.722458\n",
            "222377     1410603      22.706917\n",
            "222378      207926      10.072652\n",
            "222379      241496      13.246577\n",
            "222380      563849       7.726961\n",
            "\n",
            "[222381 rows x 2 columns]\n"
          ]
        }
      ],
      "source": [
        "submission_df = pd.DataFrame().assign(PRODUCT_ID = test_df_ids, PRODUCT_PRICE= Y_test)\n",
        "print(submission_df)\n",
        "submission_df.to_csv('Submission.csv')\n"
      ]
    }
  ],
  "metadata": {
    "colab": {
      "provenance": []
    },
    "kernelspec": {
      "display_name": "Python 3.10.1 64-bit",
      "language": "python",
      "name": "python3"
    },
    "language_info": {
      "codemirror_mode": {
        "name": "ipython",
        "version": 3
      },
      "file_extension": ".py",
      "mimetype": "text/x-python",
      "name": "python",
      "nbconvert_exporter": "python",
      "pygments_lexer": "ipython3",
      "version": "3.10.1"
    },
    "vscode": {
      "interpreter": {
        "hash": "fbfacf25abbc4466cbf6a4ec94f71aa428570133f008ac9f4c86deb26a69bb88"
      }
    }
  },
  "nbformat": 4,
  "nbformat_minor": 0
}
